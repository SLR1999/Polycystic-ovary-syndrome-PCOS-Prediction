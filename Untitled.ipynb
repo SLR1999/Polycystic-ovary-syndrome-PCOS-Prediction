{
 "cells": [
  {
   "cell_type": "code",
   "execution_count": 1,
   "metadata": {},
   "outputs": [],
   "source": [
    "import pandas as pd\n"
   ]
  },
  {
   "cell_type": "code",
   "execution_count": 2,
   "metadata": {},
   "outputs": [
    {
     "data": {
      "text/plain": [
       "Marraige Status (Yrs)    1\n",
       "Fast food (Y/N)          1\n",
       "dtype: int64"
      ]
     },
     "execution_count": 2,
     "metadata": {},
     "output_type": "execute_result"
    }
   ],
   "source": [
    "df = pd.read_csv(\"data/data without infertility _final.csv\")\n",
    "del df[\"Unnamed: 42\"]\n",
    "null_columns=df.columns[df.isnull().any()]\n",
    "df[null_columns].isnull().sum()"
   ]
  },
  {
   "cell_type": "code",
   "execution_count": 3,
   "metadata": {},
   "outputs": [
    {
     "name": "stdout",
     "output_type": "stream",
     "text": [
      "     Marraige Status (Yrs)  Fast food (Y/N)\n",
      "156                    5.0              NaN\n",
      "458                    NaN              0.0\n"
     ]
    }
   ],
   "source": [
    "print(df[df.isnull().any(axis=1)][null_columns])"
   ]
  },
  {
   "cell_type": "code",
   "execution_count": 4,
   "metadata": {},
   "outputs": [],
   "source": [
    "df = df.dropna()"
   ]
  },
  {
   "cell_type": "code",
   "execution_count": 5,
   "metadata": {},
   "outputs": [
    {
     "name": "stdout",
     "output_type": "stream",
     "text": [
      "Empty DataFrame\n",
      "Columns: [Marraige Status (Yrs), Fast food (Y/N)]\n",
      "Index: []\n"
     ]
    }
   ],
   "source": [
    "print(df[df.isnull().any(axis=1)][null_columns])"
   ]
  },
  {
   "cell_type": "code",
   "execution_count": 7,
   "metadata": {},
   "outputs": [
    {
     "name": "stdout",
     "output_type": "stream",
     "text": [
      "Sl. No\n",
      "Patient File No.\n",
      "PCOS (Y/N)\n",
      " Age (yrs)\n",
      "Weight (Kg)\n",
      "Height(Cm) \n",
      "BMI\n",
      "Blood Group\n",
      "Pulse rate(bpm) \n",
      "RR (breaths/min)\n",
      "Hb(g/dl)\n",
      "Cycle(R/I)\n",
      "Cycle length(days)\n",
      "Marraige Status (Yrs)\n",
      "Pregnant(Y/N)\n",
      "No. of aborptions\n",
      "FSH(mIU/mL)\n",
      "LH(mIU/mL)\n",
      "FSH/LH\n",
      "Hip(inch)\n",
      "Waist(inch)\n",
      "Waist:Hip Ratio\n",
      "TSH (mIU/L)\n",
      "AMH(ng/mL)\n",
      "PRL(ng/mL)\n",
      "Vit D3 (ng/mL)\n",
      "PRG(ng/mL)\n",
      "RBS(mg/dl)\n",
      "Weight gain(Y/N)\n",
      "hair growth(Y/N)\n",
      "Skin darkening (Y/N)\n",
      "Hair loss(Y/N)\n",
      "Pimples(Y/N)\n",
      "Fast food (Y/N)\n",
      "Reg.Exercise(Y/N)\n",
      "BP _Systolic (mmHg)\n",
      "BP _Diastolic (mmHg)\n",
      "Follicle No. (L)\n",
      "Follicle No. (R)\n",
      "Avg. F size (L) (mm)\n",
      "Avg. F size (R) (mm)\n",
      "Endometrium (mm)\n"
     ]
    }
   ],
   "source": [
    "for var in df.columns:\n",
    "    print(var)"
   ]
  },
  {
   "cell_type": "code",
   "execution_count": null,
   "metadata": {},
   "outputs": [],
   "source": []
  }
 ],
 "metadata": {
  "kernelspec": {
   "display_name": "Python 3",
   "language": "python",
   "name": "python3"
  },
  "language_info": {
   "codemirror_mode": {
    "name": "ipython",
    "version": 3
   },
   "file_extension": ".py",
   "mimetype": "text/x-python",
   "name": "python",
   "nbconvert_exporter": "python",
   "pygments_lexer": "ipython3",
   "version": "3.6.8"
  }
 },
 "nbformat": 4,
 "nbformat_minor": 2
}
