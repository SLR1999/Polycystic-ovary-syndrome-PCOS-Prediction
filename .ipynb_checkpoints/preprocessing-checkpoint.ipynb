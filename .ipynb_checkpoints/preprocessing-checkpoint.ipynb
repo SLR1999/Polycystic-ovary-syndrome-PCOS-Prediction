{
 "cells": [
  {
   "cell_type": "code",
   "execution_count": 241,
   "metadata": {},
   "outputs": [],
   "source": [
    "import pandas as pd\n",
    "import seaborn as sns"
   ]
  },
  {
   "cell_type": "code",
   "execution_count": 242,
   "metadata": {},
   "outputs": [
    {
     "data": {
      "text/plain": [
       "Marraige Status (Yrs)    1\n",
       "Fast food (Y/N)          1\n",
       "dtype: int64"
      ]
     },
     "execution_count": 242,
     "metadata": {},
     "output_type": "execute_result"
    }
   ],
   "source": [
    "df = pd.read_csv(\"data/data without infertility _final.csv\")\n",
    "del df[\"Unnamed: 42\"]\n",
    "null_columns=df.columns[df.isnull().any()]\n",
    "df[null_columns].isnull().sum()"
   ]
  },
  {
   "cell_type": "code",
   "execution_count": 243,
   "metadata": {},
   "outputs": [
    {
     "name": "stdout",
     "output_type": "stream",
     "text": [
      "     Marraige Status (Yrs)  Fast food (Y/N)\n",
      "156                    5.0              NaN\n",
      "458                    NaN              0.0\n"
     ]
    }
   ],
   "source": [
    "print(df[df.isnull().any(axis=1)][null_columns])"
   ]
  },
  {
   "cell_type": "code",
   "execution_count": 244,
   "metadata": {},
   "outputs": [],
   "source": [
    "df = df.dropna()"
   ]
  },
  {
   "cell_type": "code",
   "execution_count": 245,
   "metadata": {},
   "outputs": [
    {
     "name": "stdout",
     "output_type": "stream",
     "text": [
      "Empty DataFrame\n",
      "Columns: [Marraige Status (Yrs), Fast food (Y/N)]\n",
      "Index: []\n"
     ]
    }
   ],
   "source": [
    "print(df[df.isnull().any(axis=1)][null_columns])"
   ]
  },
  {
   "cell_type": "code",
   "execution_count": 246,
   "metadata": {},
   "outputs": [
    {
     "name": "stdout",
     "output_type": "stream",
     "text": [
      "Index(['Sl. No', 'Patient File No.', 'PCOS (Y/N)', ' Age (yrs)', 'Weight (Kg)',\n",
      "       'Height(Cm) ', 'BMI', 'Blood Group', 'Pulse rate(bpm) ',\n",
      "       'RR (breaths/min)', 'Hb(g/dl)', 'Cycle(R/I)', 'Cycle length(days)',\n",
      "       'Marraige Status (Yrs)', 'Pregnant(Y/N)', 'No. of aborptions',\n",
      "       'FSH(mIU/mL)', 'LH(mIU/mL)', 'FSH/LH', 'Hip(inch)', 'Waist(inch)',\n",
      "       'Waist:Hip Ratio', 'TSH (mIU/L)', 'AMH(ng/mL)', 'PRL(ng/mL)',\n",
      "       'Vit D3 (ng/mL)', 'PRG(ng/mL)', 'RBS(mg/dl)', 'Weight gain(Y/N)',\n",
      "       'hair growth(Y/N)', 'Skin darkening (Y/N)', 'Hair loss(Y/N)',\n",
      "       'Pimples(Y/N)', 'Fast food (Y/N)', 'Reg.Exercise(Y/N)',\n",
      "       'BP _Systolic (mmHg)', 'BP _Diastolic (mmHg)', 'Follicle No. (L)',\n",
      "       'Follicle No. (R)', 'Avg. F size (L) (mm)', 'Avg. F size (R) (mm)',\n",
      "       'Endometrium (mm)'],\n",
      "      dtype='object')\n"
     ]
    }
   ],
   "source": [
    "print(df.columns)"
   ]
  },
  {
   "cell_type": "code",
   "execution_count": 247,
   "metadata": {},
   "outputs": [
    {
     "data": {
      "text/plain": [
       "True"
      ]
     },
     "execution_count": 247,
     "metadata": {},
     "output_type": "execute_result"
    }
   ],
   "source": [
    "(df[\"Weight (Kg)\"] > 30).all()"
   ]
  },
  {
   "cell_type": "code",
   "execution_count": 248,
   "metadata": {},
   "outputs": [
    {
     "name": "stdout",
     "output_type": "stream",
     "text": [
      "0      28\n",
      "1      36\n",
      "2      33\n",
      "3      37\n",
      "4      25\n",
      "5      36\n",
      "6      34\n",
      "7      33\n",
      "8      32\n",
      "9      36\n",
      "10     20\n",
      "11     26\n",
      "12     25\n",
      "13     38\n",
      "14     34\n",
      "15     38\n",
      "16     29\n",
      "17     36\n",
      "18     31\n",
      "19     30\n",
      "20     25\n",
      "21     38\n",
      "22     34\n",
      "23     28\n",
      "24     34\n",
      "25     41\n",
      "26     30\n",
      "27     20\n",
      "28     25\n",
      "29     28\n",
      "       ..\n",
      "511    44\n",
      "512    23\n",
      "513    21\n",
      "514    32\n",
      "515    31\n",
      "516    34\n",
      "517    27\n",
      "518    24\n",
      "519    28\n",
      "520    27\n",
      "521    40\n",
      "522    29\n",
      "523    36\n",
      "524    27\n",
      "525    27\n",
      "526    32\n",
      "527    22\n",
      "528    41\n",
      "529    32\n",
      "530    38\n",
      "531    34\n",
      "532    39\n",
      "533    26\n",
      "534    24\n",
      "535    26\n",
      "536    35\n",
      "537    30\n",
      "538    36\n",
      "539    27\n",
      "540    23\n",
      "Name:  Age (yrs), Length: 539, dtype: int64\n"
     ]
    }
   ],
   "source": [
    "print((df[\" Age (yrs)\"] ))"
   ]
  },
  {
   "cell_type": "code",
   "execution_count": 249,
   "metadata": {},
   "outputs": [
    {
     "data": {
      "text/plain": [
       "False"
      ]
     },
     "execution_count": 249,
     "metadata": {},
     "output_type": "execute_result"
    }
   ],
   "source": [
    "(df[\" Age (yrs)\"] < 48).all() #min=20, max=49"
   ]
  },
  {
   "cell_type": "code",
   "execution_count": 250,
   "metadata": {},
   "outputs": [
    {
     "data": {
      "text/plain": [
       "False"
      ]
     },
     "execution_count": 250,
     "metadata": {},
     "output_type": "execute_result"
    }
   ],
   "source": [
    "(df[\"Height(Cm) \"] < 170).all() #min=136, max=170"
   ]
  },
  {
   "cell_type": "code",
   "execution_count": 251,
   "metadata": {},
   "outputs": [
    {
     "data": {
      "text/plain": [
       "False"
      ]
     },
     "execution_count": 251,
     "metadata": {},
     "output_type": "execute_result"
    }
   ],
   "source": [
    "(df[\"BMI\"] < 38).all() #min=12, max=38"
   ]
  },
  {
   "cell_type": "code",
   "execution_count": 252,
   "metadata": {
    "scrolled": false
   },
   "outputs": [
    {
     "name": "stdout",
     "output_type": "stream",
     "text": [
      "Sl. No min :  1 max: 541\n",
      "Patient File No. min :  10001 max: 10541\n",
      "PCOS (Y/N) min :  0 max: 1\n",
      " Age (yrs) min :  20 max: 48\n",
      "Weight (Kg) min :  31.0 max: 108.0\n",
      "Height(Cm)  min :  137.0 max: 180.0\n",
      "BMI min :  12.41788175 max: 38.9\n",
      "Blood Group min :  11 max: 18\n",
      "Pulse rate(bpm)  min :  13 max: 82\n",
      "RR (breaths/min) min :  16 max: 28\n",
      "Hb(g/dl) min :  8.5 max: 14.8\n",
      "Cycle(R/I) min :  2 max: 5\n",
      "Cycle length(days) min :  0 max: 12\n",
      "Marraige Status (Yrs) min :  0.0 max: 30.0\n",
      "Pregnant(Y/N) min :  0 max: 1\n",
      "No. of aborptions min :  0 max: 5\n",
      "FSH(mIU/mL) min :  0.21 max: 5052.0\n",
      "LH(mIU/mL) min :  0.02 max: 2018.0\n",
      "FSH/LH min :  0.002145689 max: 1372.826087\n",
      "Hip(inch) min :  26 max: 48\n",
      "Waist(inch) min :  24 max: 47\n",
      "Waist:Hip Ratio min :  0.7555555559999999 max: 0.979166667\n",
      "TSH (mIU/L) min :  0.04 max: 65.0\n",
      "AMH(ng/mL) min :  0.1 max: a\n",
      "PRL(ng/mL) min :  0.4 max: 128.24\n",
      "Vit D3 (ng/mL) min :  0.0 max: 6014.66\n",
      "PRG(ng/mL) min :  0.047 max: 85.0\n",
      "RBS(mg/dl) min :  60.0 max: 350.0\n",
      "Weight gain(Y/N) min :  0 max: 1\n",
      "hair growth(Y/N) min :  0 max: 1\n",
      "Skin darkening (Y/N) min :  0 max: 1\n",
      "Hair loss(Y/N) min :  0 max: 1\n",
      "Pimples(Y/N) min :  0 max: 1\n",
      "Fast food (Y/N) min :  0.0 max: 1.0\n",
      "Reg.Exercise(Y/N) min :  0 max: 1\n",
      "BP _Systolic (mmHg) min :  12 max: 140\n",
      "BP _Diastolic (mmHg) min :  8 max: 100\n",
      "Follicle No. (L) min :  0 max: 22\n",
      "Follicle No. (R) min :  0 max: 20\n",
      "Avg. F size (L) (mm) min :  0.0 max: 24.0\n",
      "Avg. F size (R) (mm) min :  0.0 max: 24.0\n",
      "Endometrium (mm) min :  0.0 max: 18.0\n"
     ]
    }
   ],
   "source": [
    "for col in df.columns:\n",
    "    print(col,\"min : \",min(df[col]),\"max:\",max(df[col]))"
   ]
  },
  {
   "cell_type": "code",
   "execution_count": 263,
   "metadata": {},
   "outputs": [
    {
     "name": "stdout",
     "output_type": "stream",
     "text": [
      "180     0.047\n",
      "102     0.100\n",
      "190     0.110\n",
      "171     0.120\n",
      "201     0.140\n",
      "77      0.150\n",
      "165     0.150\n",
      "184     0.170\n",
      "189     0.190\n",
      "483     0.210\n",
      "159     0.210\n",
      "504     0.220\n",
      "513     0.230\n",
      "472     0.240\n",
      "451     0.240\n",
      "152     0.240\n",
      "200     0.240\n",
      "461     0.240\n",
      "199     0.250\n",
      "198     0.250\n",
      "400     0.250\n",
      "192     0.250\n",
      "191     0.250\n",
      "432     0.250\n",
      "393     0.250\n",
      "433     0.250\n",
      "143     0.250\n",
      "207     0.250\n",
      "387     0.250\n",
      "212     0.250\n",
      "        ...  \n",
      "62      0.810\n",
      "441     0.860\n",
      "37      0.880\n",
      "335     0.890\n",
      "193     0.890\n",
      "202     0.900\n",
      "172     0.900\n",
      "126     0.910\n",
      "123     0.930\n",
      "116     0.930\n",
      "295     0.940\n",
      "1       0.970\n",
      "24      0.980\n",
      "25      0.980\n",
      "100     0.980\n",
      "108     0.980\n",
      "150     0.980\n",
      "357     1.000\n",
      "174     1.000\n",
      "110     1.000\n",
      "209     1.100\n",
      "27      1.200\n",
      "71      1.220\n",
      "350     1.240\n",
      "164     1.260\n",
      "64      3.660\n",
      "410     4.250\n",
      "121     6.390\n",
      "484    25.300\n",
      "41     85.000\n",
      "Name: PRG(ng/mL), Length: 539, dtype: float64\n"
     ]
    }
   ],
   "source": [
    "# print(df['BP _Diastolic (mmHg)'].sort_values(ascending=True)) #row = 200 has BP = 8\n",
    "# print(df['BP _Systolic (mmHg)'].sort_values(ascending=True)) #row = 161 has BP = 12\n",
    "# print(df['Pulse rate(bpm) '].sort_values(ascending=True)) #row = 223,296 has BP = 18,13\n",
    "# print(df['AMH(ng/mL)'].sort_values(ascending=False)) #row =305 has value = a\n",
    "# print(df['Vit D3 (ng/mL)'].sort_values(ascending=True)) #row = 216,195,191 has value = 0,5k,6k\n",
    "# print(df['FSH(mIU/mL)'].sort_values(ascending=True)) #row = 329 has value = 5k\n",
    "# print(df['LH(mIU/mL)'].sort_values(ascending=True)) #row = 455 has value = 2k\n",
    "# print(df['PRL(ng/mL)'].sort_values(ascending=True))\n",
    "print(df['PRG(ng/mL)'].sort_values(ascending=True))"
   ]
  },
  {
   "cell_type": "code",
   "execution_count": null,
   "metadata": {},
   "outputs": [],
   "source": [
    "# df.drop(df.iloc[:, 0:2], inplace = True, axis = 1) \n",
    "# df.drop(df.iloc[:, 2:4], inplace = True, axis = 1)\n",
    "# df.drop(df.iloc[:, 8:], inplace = True, axis = 1) \n",
    "# sns.pairplot(df)"
   ]
  },
  {
   "cell_type": "code",
   "execution_count": null,
   "metadata": {},
   "outputs": [],
   "source": []
  }
 ],
 "metadata": {
  "kernelspec": {
   "display_name": "Python 3",
   "language": "python",
   "name": "python3"
  },
  "language_info": {
   "codemirror_mode": {
    "name": "ipython",
    "version": 3
   },
   "file_extension": ".py",
   "mimetype": "text/x-python",
   "name": "python",
   "nbconvert_exporter": "python",
   "pygments_lexer": "ipython3",
   "version": "3.5.6"
  }
 },
 "nbformat": 4,
 "nbformat_minor": 2
}
