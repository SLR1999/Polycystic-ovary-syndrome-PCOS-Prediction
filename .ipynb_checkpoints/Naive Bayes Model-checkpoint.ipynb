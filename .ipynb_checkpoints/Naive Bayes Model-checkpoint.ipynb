{
 "cells": [
  {
   "cell_type": "code",
   "execution_count": 94,
   "metadata": {},
   "outputs": [],
   "source": [
    "import pandas as pd\n",
    "import numpy as np\n",
    "from sklearn.naive_bayes import GaussianNB "
   ]
  },
  {
   "cell_type": "code",
   "execution_count": 95,
   "metadata": {},
   "outputs": [],
   "source": [
    "df = pd.read_csv('data/data without infertility _final.csv', delimiter=',')#,skiprows=1)"
   ]
  },
  {
   "cell_type": "code",
   "execution_count": 102,
   "metadata": {},
   "outputs": [
    {
     "name": "stdout",
     "output_type": "stream",
     "text": [
      "0        1.0\n",
      "1        2.0\n",
      "2        3.0\n",
      "3        4.0\n",
      "4        5.0\n",
      "       ...  \n",
      "536    537.0\n",
      "537    538.0\n",
      "538    539.0\n",
      "539    540.0\n",
      "540    541.0\n",
      "Name: Sl. No, Length: 541, dtype: float64\n"
     ]
    }
   ],
   "source": [
    "# print(df.columns)\n",
    "\n",
    "for cols in df.columns:\n",
    "    print(df[cols])\n",
    "    try:\n",
    "        df[cols] = df[cols].astype(float)\n",
    "    except:\n",
    "        print(df[cols])\n",
    "        breal\n",
    "#     df[cols] = df[cols].astype(float)\n",
    "\n",
    "# train = df.sample(frac=0.8,random_state=42) #random state is a seed value\n",
    "# test = df.drop(train.index)"
   ]
  },
  {
   "cell_type": "code",
   "execution_count": null,
   "metadata": {},
   "outputs": [],
   "source": [
    "X_train = train.iloc[:,[var for var in range(2,df.shape[1])]].values\n",
    "y_train = train.iloc[:,2].values\n",
    "\n",
    "X_test = test.iloc[:,[var for var in range(2,df.shape[1])]].values\n",
    "y_test = test.iloc[:,2].values"
   ]
  },
  {
   "cell_type": "code",
   "execution_count": null,
   "metadata": {
    "scrolled": true
   },
   "outputs": [],
   "source": [
    "\n",
    "# gnb = GaussianNB() \n",
    "# gnb.fit(X_train, y_train) "
   ]
  },
  {
   "cell_type": "code",
   "execution_count": null,
   "metadata": {},
   "outputs": [],
   "source": []
  }
 ],
 "metadata": {
  "kernelspec": {
   "display_name": "Python 3",
   "language": "python",
   "name": "python3"
  },
  "language_info": {
   "codemirror_mode": {
    "name": "ipython",
    "version": 3
   },
   "file_extension": ".py",
   "mimetype": "text/x-python",
   "name": "python",
   "nbconvert_exporter": "python",
   "pygments_lexer": "ipython3",
   "version": "3.6.8"
  }
 },
 "nbformat": 4,
 "nbformat_minor": 2
}
