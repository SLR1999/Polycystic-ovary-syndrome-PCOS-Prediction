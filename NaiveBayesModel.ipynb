{
 "cells": [
  {
   "cell_type": "code",
   "execution_count": 9,
   "metadata": {},
   "outputs": [],
   "source": [
    "import pandas as pd\n",
    "import numpy as np\n",
    "\n",
    "from sklearn.naive_bayes import GaussianNB \n",
    "from sklearn.model_selection import train_test_split\n",
    "from sklearn import metrics\n",
    "\n",
    "import pickle"
   ]
  },
  {
   "cell_type": "code",
   "execution_count": 10,
   "metadata": {},
   "outputs": [],
   "source": [
    "df = pd.read_csv(\"data/cleaned_data.csv\")"
   ]
  },
  {
   "cell_type": "code",
   "execution_count": 11,
   "metadata": {},
   "outputs": [],
   "source": [
    "# print(df.columns)\n",
    "# del df['AMH(ng/mL)']\n",
    "# del df['Unnamed: 42'] #All NaN value \n",
    "# del df['Marraige Status (Yrs)'] #1 NaN value \n",
    "# del df['Fast food (Y/N)'] #1 NaN value \n",
    "\n",
    "# # print(df.isna().sum())\n",
    "\n",
    "# var = 0\n",
    "# for cols in df.columns:\n",
    "#     try:\n",
    "#         df[cols] = df[cols].astype(float)\n",
    "#         print(df[cols].isnull())\n",
    "#         var += 1\n",
    "#     except:\n",
    "#         print(var)\n",
    "#         break\n",
    "\n",
    "# train = df.sample(frac=0.50,random_state=42) #random state is a seed value\n",
    "# test = df.drop(train.index)"
   ]
  },
  {
   "cell_type": "code",
   "execution_count": 12,
   "metadata": {},
   "outputs": [],
   "source": [
    "# X_train = train.iloc[:,[var for var in range(2,df.shape[1])]].values\n",
    "# y_train = train.iloc[:,2].values\n",
    "\n",
    "# X_test = test.iloc[:,[var for var in range(2,df.shape[1])]].values\n",
    "# y_test = test.iloc[:,2].values"
   ]
  },
  {
   "cell_type": "code",
   "execution_count": 13,
   "metadata": {},
   "outputs": [],
   "source": [
    "X = df.drop(columns=[\"PCOS (Y/N)\"])\n",
    "y = df[\"PCOS (Y/N)\"].values"
   ]
  },
  {
   "cell_type": "code",
   "execution_count": 14,
   "metadata": {},
   "outputs": [],
   "source": [
    "# implementing train-test-split\n",
    "X_train, X_test, y_train, y_test = train_test_split(X, y, test_size=0.33, random_state=42)"
   ]
  },
  {
   "cell_type": "code",
   "execution_count": 15,
   "metadata": {
    "scrolled": true
   },
   "outputs": [
    {
     "data": {
      "text/plain": [
       "GaussianNB(priors=None, var_smoothing=1e-09)"
      ]
     },
     "execution_count": 15,
     "metadata": {},
     "output_type": "execute_result"
    }
   ],
   "source": [
    "gnb = GaussianNB() \n",
    "gnb.fit(X_train, y_train) "
   ]
  },
  {
   "cell_type": "code",
   "execution_count": 16,
   "metadata": {},
   "outputs": [],
   "source": [
    "#Using pickle operation to serialize Logistic regression and save the serialized format to a file\n",
    "filename = 'finalized_naive_bayes.sav'\n",
    "pickle.dump(gnb, open(filename, 'wb'))\n",
    "\n",
    "loaded_model = pickle.load(open(filename, 'rb'))\n",
    "y_pred = loaded_model.predict(X_test)"
   ]
  },
  {
   "cell_type": "code",
   "execution_count": 17,
   "metadata": {},
   "outputs": [
    {
     "name": "stdout",
     "output_type": "stream",
     "text": [
      "Gaussian Naive Bayes model accuracy(in %): 83.42857142857143\n"
     ]
    }
   ],
   "source": [
    "# y_pred = gnb.predict(X_test) \n",
    "print(\"Gaussian Naive Bayes model accuracy(in %):\", metrics.accuracy_score(y_test, y_pred)*100)"
   ]
  },
  {
   "cell_type": "code",
   "execution_count": 18,
   "metadata": {},
   "outputs": [
    {
     "name": "stdout",
     "output_type": "stream",
     "text": [
      "83.33895624670537\n"
     ]
    }
   ],
   "source": [
    "average_accuracy = 0\n",
    "for var in range(0,542):\n",
    "    X_train, X_test, y_train, y_test = train_test_split(X, y, test_size=0.33, random_state=var)\n",
    "    \n",
    "    gnb = GaussianNB() \n",
    "    gnb.fit(X_train, y_train)\n",
    "    \n",
    "    y_pred = gnb.predict(X_test) \n",
    "    average_accuracy += metrics.accuracy_score(y_test, y_pred)*100\n",
    "    \n",
    "print(average_accuracy/542)"
   ]
  },
  {
   "cell_type": "code",
   "execution_count": null,
   "metadata": {},
   "outputs": [],
   "source": []
  }
 ],
 "metadata": {
  "kernelspec": {
   "display_name": "Python 3",
   "language": "python",
   "name": "python3"
  },
  "language_info": {
   "codemirror_mode": {
    "name": "ipython",
    "version": 3
   },
   "file_extension": ".py",
   "mimetype": "text/x-python",
   "name": "python",
   "nbconvert_exporter": "python",
   "pygments_lexer": "ipython3",
   "version": "3.6.8"
  }
 },
 "nbformat": 4,
 "nbformat_minor": 2
}
