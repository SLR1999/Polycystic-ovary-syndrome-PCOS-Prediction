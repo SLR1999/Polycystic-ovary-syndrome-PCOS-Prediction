{
 "cells": [
  {
   "cell_type": "code",
   "execution_count": 121,
   "metadata": {
    "scrolled": true
   },
   "outputs": [],
   "source": [
    "import pandas as pd\n",
    "import numpy as np\n",
    "\n",
    "from sklearn import metrics\n",
    "from sklearn.preprocessing import StandardScaler\n",
    "from sklearn.model_selection import train_test_split\n",
    "from sklearn import model_selection\n",
    "from sklearn.ensemble import RandomForestClassifier\n",
    "from sklearn.model_selection import cross_val_score"
   ]
  },
  {
   "cell_type": "code",
   "execution_count": 122,
   "metadata": {},
   "outputs": [],
   "source": [
    "df = pd.read_csv('../data/data without infertility _final.csv')#, header = [0])"
   ]
  },
  {
   "cell_type": "code",
   "execution_count": 123,
   "metadata": {},
   "outputs": [],
   "source": [
    "X = df.drop(columns=[\"Cycle length(days)\", \"AMH(ng/mL)\", \"Unnamed: 42\", \"Marraige Status (Yrs)\", \"Fast food (Y/N)\"])#check that the target variable has been removed\n",
    "X.head()\n",
    "y = df[\"Cycle length(days)\"].values"
   ]
  },
  {
   "cell_type": "code",
   "execution_count": 124,
   "metadata": {},
   "outputs": [],
   "source": [
    "# implementing train-test-split\n",
    "X_train, X_test, y_train, y_test = train_test_split(X, y, test_size=0.33, random_state=23)"
   ]
  },
  {
   "cell_type": "code",
   "execution_count": 125,
   "metadata": {},
   "outputs": [],
   "source": [
    "sc = StandardScaler()\n",
    "X_train = sc.fit_transform(X_train)\n",
    "X_test = sc.transform(X_test)\n"
   ]
  },
  {
   "cell_type": "code",
   "execution_count": 126,
   "metadata": {},
   "outputs": [],
   "source": [
    "\n",
    "# random forest model creation\n",
    "rfc = RandomForestClassifier(n_estimators=15)\n",
    "rfc.fit(X_train,y_train)\n",
    "# predictions\n",
    "y_pred = rfc.predict(X_test)"
   ]
  },
  {
   "cell_type": "code",
   "execution_count": 127,
   "metadata": {},
   "outputs": [
    {
     "name": "stdout",
     "output_type": "stream",
     "text": [
      "Mean Absolute Error: 0.8770949720670391\n",
      "Mean Squared Error: 2.776536312849162\n",
      "Root Mean Squared Error: 1.6662941855654307\n"
     ]
    }
   ],
   "source": [
    "print('Mean Absolute Error:', metrics.mean_absolute_error(y_test, y_pred))\n",
    "print('Mean Squared Error:', metrics.mean_squared_error(y_test, y_pred))\n",
    "print('Root Mean Squared Error:', np.sqrt(metrics.mean_squared_error(y_test, y_pred)))"
   ]
  },
  {
   "cell_type": "code",
   "execution_count": 128,
   "metadata": {},
   "outputs": [],
   "source": [
    "average_mean_absolute_error = 0\n",
    "average_mean_squared_error = 0\n",
    "average_root_mean_squared_error = 0\n",
    "for var in range(0,542):\n",
    "    X_train, X_test, y_train, y_test = train_test_split(X, y, test_size=0.33, random_state=var)\n",
    "    \n",
    "    sc = StandardScaler()\n",
    "    X_train = sc.fit_transform(X_train)\n",
    "    X_test = sc.transform(X_test)    \n",
    "    \n",
    "    rfc = RandomForestClassifier(n_estimators=15)\n",
    "    rfc.fit(X_train,y_train)\n",
    "    # predictions\n",
    "    rfc_predict = rfc.predict(X_test)\n",
    "    average_mean_absolute_error += metrics.mean_absolute_error(y_test, y_pred)\n",
    "    average_mean_squared_error += metrics.mean_squared_error(y_test, y_pred)\n",
    "    average_root_mean_squared_error += np.sqrt(metrics.mean_squared_error(y_test, y_pred))"
   ]
  },
  {
   "cell_type": "code",
   "execution_count": 129,
   "metadata": {},
   "outputs": [
    {
     "name": "stdout",
     "output_type": "stream",
     "text": [
      "1.145591539714279\n",
      "3.1416541260384663\n",
      "1.7687791487229239\n"
     ]
    }
   ],
   "source": [
    "print(average_mean_absolute_error/542)\n",
    "print(average_mean_squared_error/542)\n",
    "print(average_root_mean_squared_error/542)"
   ]
  },
  {
   "cell_type": "code",
   "execution_count": null,
   "metadata": {},
   "outputs": [],
   "source": []
  }
 ],
 "metadata": {
  "kernelspec": {
   "display_name": "Python 3",
   "language": "python",
   "name": "python3"
  },
  "language_info": {
   "codemirror_mode": {
    "name": "ipython",
    "version": 3
   },
   "file_extension": ".py",
   "mimetype": "text/x-python",
   "name": "python",
   "nbconvert_exporter": "python",
   "pygments_lexer": "ipython3",
   "version": "3.6.8"
  }
 },
 "nbformat": 4,
 "nbformat_minor": 2
}
